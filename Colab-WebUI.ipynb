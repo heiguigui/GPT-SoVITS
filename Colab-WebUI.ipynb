{
  "cells": [
    {
      "cell_type": "markdown",
      "metadata": {
        "id": "view-in-github",
        "colab_type": "text"
      },
      "source": [
        "<a href=\"https://colab.research.google.com/github/heiguigui/GPT-SoVITS/blob/main/Colab-WebUI.ipynb\" target=\"_parent\"><img src=\"https://colab.research.google.com/assets/colab-badge.svg\" alt=\"Open In Colab\"/></a>"
      ]
    },
    {
      "cell_type": "markdown",
      "metadata": {
        "id": "eAsNwKpK90FR"
      },
      "source": [
        "# GPT-SoVITS WebUI"
      ]
    },
    {
      "cell_type": "markdown",
      "metadata": {
        "id": "_o6a8GS2lWQM"
      },
      "source": [
        "## Env Setup (Run Once Only)\n",
        "## 环境配置, 只需运行一次"
      ]
    },
    {
      "cell_type": "markdown",
      "metadata": {
        "id": "PTZC5a3e90FS"
      },
      "source": [
        "### 1."
      ]
    },
    {
      "cell_type": "code",
      "execution_count": 1,
      "metadata": {
        "id": "ZPhUW5HP90FT",
        "colab": {
          "base_uri": "https://localhost:8080/"
        },
        "outputId": "84f1cca0-b18b-4314-edb7-256eead700d9"
      },
      "outputs": [
        {
          "output_type": "stream",
          "name": "stdout",
          "text": [
            "Writing /content/setup.sh\n"
          ]
        }
      ],
      "source": [
        "%%writefile /content/setup.sh\n",
        "set -e\n",
        "\n",
        "cd /content\n",
        "\n",
        "git clone https://github.com/heiguigui/GPT-SoVITS.git\n",
        "\n",
        "cd GPT-SoVITS\n",
        "\n",
        "if conda env list | awk '{print $1}' | grep -Fxq \"GPTSoVITS\"; then\n",
        "    :\n",
        "else\n",
        "    conda create -n GPTSoVITS python=3.10 -y\n",
        "fi\n",
        "\n",
        "source activate GPTSoVITS\n",
        "\n",
        "pip install ipykernel\n",
        "\n",
        "bash install.sh --device CU126 --source HF --download-uvr5"
      ]
    },
    {
      "cell_type": "markdown",
      "metadata": {
        "id": "Q_Zcpm2b90FT"
      },
      "source": [
        "### 2."
      ]
    },
    {
      "cell_type": "code",
      "execution_count": null,
      "metadata": {
        "id": "QiqTcazO90FU"
      },
      "outputs": [],
      "source": [
        "%pip install -q condacolab\n",
        "import condacolab\n",
        "condacolab.install_from_url(\"https://repo.anaconda.com/archive/Anaconda3-2024.10-1-Linux-x86_64.sh\")\n",
        "!cd /content && bash setup.sh"
      ]
    },
    {
      "cell_type": "code",
      "source": [
        "from google.colab import drive\n",
        "drive.mount('/content/drive')"
      ],
      "metadata": {
        "id": "K2IsDkah9_bj",
        "colab": {
          "base_uri": "https://localhost:8080/"
        },
        "outputId": "962b27f1-e9f4-4fa5-fbb0-e5f68a97cd6c"
      },
      "execution_count": 1,
      "outputs": [
        {
          "output_type": "stream",
          "name": "stdout",
          "text": [
            "Mounted at /content/drive\n"
          ]
        }
      ]
    },
    {
      "cell_type": "markdown",
      "metadata": {
        "id": "mR3c7kfz90FU"
      },
      "source": [
        "## Launch WebUI\n",
        "## 启动 WebUI"
      ]
    },
    {
      "cell_type": "code",
      "execution_count": null,
      "metadata": {
        "id": "4oRGUzkrk8C7"
      },
      "outputs": [],
      "source": [
        "!cd /content/GPT-SoVITS && source activate GPTSoVITS && export is_share=True && python webui.py"
      ]
    },
    {
      "cell_type": "code",
      "source": [
        "import shutil\n",
        "\n",
        "# 从google drive复制文件夹（自动覆盖）\n",
        "# shutil.copytree('/content/drive/MyDrive/GPT-SoVITS-Data/asr_opt',\n",
        "#                 '/content/GPT-SoVITS/output/asr_opt',\n",
        "#                 dirs_exist_ok=True)\n",
        "\n",
        "# shutil.copytree('/content/drive/MyDrive/GPT-SoVITS-Data/slicer_opt',\n",
        "#                 '/content/GPT-SoVITS/output/slicer_opt',\n",
        "#                 dirs_exist_ok=True)\n",
        "\n",
        "shutil.copytree('/content/drive/MyDrive/GPT-SoVITS-Data/uvr5_opt',\n",
        "                '/content/GPT-SoVITS/output/uvr5_opt',\n",
        "                dirs_exist_ok=True)\n",
        "\n",
        "# shutil.copytree('/content/drive/MyDrive/GPT-SoVITS-Data/SoVITS_weights_v4',\n",
        "#                 '/content/GPT-SoVITS/SoVITS_weights_v4',\n",
        "#                 dirs_exist_ok=True)\n",
        "\n",
        "# shutil.copytree('/content/drive/MyDrive/GPT-SoVITS-Data/GPT_weights_v4',\n",
        "#                 '/content/GPT-SoVITS/GPT_weights_v4',\n",
        "#                 dirs_exist_ok=True)\n",
        "\n",
        "print(\"✅ 所有文件复制完成\")"
      ],
      "metadata": {
        "id": "T82H4pP0IvPd"
      },
      "execution_count": null,
      "outputs": []
    },
    {
      "cell_type": "code",
      "source": [
        "import shutil\n",
        "# 复制文件夹至googledrive（自动覆盖）\n",
        "shutil.copytree('/content/GPT-SoVITS/output/asr_opt', '/content/drive/MyDrive/GPT-SoVITS-Data1/asr_opt', dirs_exist_ok=True)\n",
        "\n",
        "shutil.copytree('/content/GPT-SoVITS/output/slicer_opt', '/content/drive/MyDrive/GPT-SoVITS-Data1/slicer_opt', dirs_exist_ok=True)\n",
        "\n",
        "shutil.copytree('/content/GPT-SoVITS/output/uvr5_opt', '/content/drive/MyDrive/GPT-SoVITS-Data1/uvr5_opt', dirs_exist_ok=True)\n",
        "\n",
        "shutil.copytree('/content/GPT-SoVITS/SoVITS_weights_v4', '/content/drive/MyDrive/GPT-SoVITS-Data1/SoVITS_weights_v4', dirs_exist_ok=True)\n",
        "\n",
        "shutil.copytree('/content/GPT-SoVITS/GPT_weights_v4', '/content/drive/MyDrive/GPT-SoVITS-Dat1a/GPT_weights_v4', dirs_exist_ok=True)\n",
        "\n",
        "print(\"✅ 所有文件已备份回 Google Drive\")"
      ],
      "metadata": {
        "id": "mhG8HrwdUKNP"
      },
      "execution_count": null,
      "outputs": []
    },
    {
      "cell_type": "code",
      "source": [
        "import shutil\n",
        "\n",
        "# 要删除的文件夹列表\n",
        "folders_to_delete = [\n",
        "    '/content/GPT-SoVITS/output/asr_opt',\n",
        "    '/content/GPT-SoVITS/output/slicer_opt',\n",
        "    '/content/GPT-SoVITS/output/uvr5_opt',\n",
        "    '/content/GPT-SoVITS/SoVITS_weights_v4',\n",
        "    '/content/GPT-SoVITS/GPT_weights_v4'\n",
        "]\n",
        "\n",
        "# 执行删除\n",
        "for folder in folders_to_delete:\n",
        "    try:\n",
        "        shutil.rmtree(folder)\n",
        "        print(f\"✅ 已删除: {folder}\")\n",
        "    except FileNotFoundError:\n",
        "        print(f\"⚠️ 文件夹不存在: {folder}\")\n",
        "    except Exception as e:\n",
        "        print(f\"❌ 删除失败 {folder}: {str(e)}\")\n",
        "\n",
        "print(\"🗑️ 清理完成\")"
      ],
      "metadata": {
        "id": "pHQn2VSBItfX"
      },
      "execution_count": null,
      "outputs": []
    }
  ],
  "metadata": {
    "accelerator": "GPU",
    "colab": {
      "provenance": [],
      "include_colab_link": true
    },
    "kernelspec": {
      "display_name": "Python 3",
      "name": "python3"
    }
  },
  "nbformat": 4,
  "nbformat_minor": 0
}